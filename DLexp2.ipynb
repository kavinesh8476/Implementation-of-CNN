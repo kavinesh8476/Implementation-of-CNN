{
  "nbformat": 4,
  "nbformat_minor": 0,
  "metadata": {
    "colab": {
      "provenance": []
    },
    "kernelspec": {
      "name": "python3",
      "display_name": "Python 3"
    },
    "language_info": {
      "name": "python"
    }
  },
  "cells": [
    {
      "cell_type": "code",
      "execution_count": 1,
      "metadata": {
        "id": "fgo0nGNQMqMC"
      },
      "outputs": [],
      "source": [
        "import numpy as np\n",
        "import tensorflow as tf"
      ]
    },
    {
      "cell_type": "code",
      "source": [
        "data_path =\"mnist.npz\"\n",
        "\n",
        "# Load data (discard test set)\n",
        "(training_images, training_labels), _ = tf.keras.datasets.mnist.load_data(path=data_path)\n",
        "\n",
        "print(f\"training_images is of type {type(training_images)}.\\ntraining_labels is of type {type(training_labels)}\\n\")"
      ],
      "metadata": {
        "colab": {
          "base_uri": "https://localhost:8080/"
        },
        "id": "yjaV5ev6NtWH",
        "outputId": "98ad1d4f-3d6d-440f-830c-221b0c216ce3"
      },
      "execution_count": 2,
      "outputs": [
        {
          "output_type": "stream",
          "name": "stdout",
          "text": [
            "Downloading data from https://storage.googleapis.com/tensorflow/tf-keras-datasets/mnist.npz\n",
            "\u001b[1m11490434/11490434\u001b[0m \u001b[32m━━━━━━━━━━━━━━━━━━━━\u001b[0m\u001b[37m\u001b[0m \u001b[1m1s\u001b[0m 0us/step\n",
            "training_images is of type <class 'numpy.ndarray'>.\n",
            "training_labels is of type <class 'numpy.ndarray'>\n",
            "\n"
          ]
        }
      ]
    },
    {
      "cell_type": "code",
      "source": [
        "# Inspect shape of the data\n",
        "data_shape = training_images.shape\n",
        "\n",
        "print(f\"There are {data_shape[0]} examples with shape ({data_shape[1]}, {data_shape[2]})\")"
      ],
      "metadata": {
        "colab": {
          "base_uri": "https://localhost:8080/"
        },
        "id": "svVmSNwrOSfL",
        "outputId": "9c011135-698f-4497-d142-93de532cae56"
      },
      "execution_count": 3,
      "outputs": [
        {
          "output_type": "stream",
          "name": "stdout",
          "text": [
            "There are 60000 examples with shape (28, 28)\n"
          ]
        }
      ]
    },
    {
      "cell_type": "code",
      "source": [
        "def reshape_and_normalize(images):\n",
        "\n",
        "    # Reshape the images to add an extra dimension (at the right-most side of the array)\n",
        "    images = images.reshape(60000,28,28,1)\n",
        "    # Normalize pixel values\n",
        "    images = images/255\n",
        "    return images"
      ],
      "metadata": {
        "id": "zWpXd-JfOTSj"
      },
      "execution_count": 4,
      "outputs": []
    },
    {
      "cell_type": "code",
      "source": [
        "# Reload the images in case you run this cell multiple times\n",
        "(training_images, _), _ = tf.keras.datasets.mnist.load_data(path=data_path)"
      ],
      "metadata": {
        "id": "reYhoyVjOTx6"
      },
      "execution_count": 5,
      "outputs": []
    },
    {
      "cell_type": "code",
      "source": [
        "# Apply your function\n",
        "training_images = reshape_and_normalize(training_images)\n",
        "print('Name: Kavinesh M RegisterNumber: 212222230064 \\n')\n",
        "print(f\"Maximum pixel value after normalization: {np.max(training_images)}\\n\")\n",
        "print(f\"Shape of training set after reshaping: {training_images.shape}\\n\")\n",
        "print(f\"Shape of one image after reshaping: {training_images[0].shape}\")\n"
      ],
      "metadata": {
        "colab": {
          "base_uri": "https://localhost:8080/"
        },
        "id": "t5NBy2f8Oao4",
        "outputId": "5c41c708-c951-4130-abcc-db71110daef6"
      },
      "execution_count": 6,
      "outputs": [
        {
          "output_type": "stream",
          "name": "stdout",
          "text": [
            "Name: Kavinesh M RegisterNumber: 212222230064 \n",
            "\n",
            "Maximum pixel value after normalization: 1.0\n",
            "\n",
            "Shape of training set after reshaping: (60000, 28, 28, 1)\n",
            "\n",
            "Shape of one image after reshaping: (28, 28, 1)\n"
          ]
        }
      ]
    },
    {
      "cell_type": "code",
      "source": [
        "# Remember to inherit from the correct class\n",
        "class EarlyStoppingCallback(tf.keras.callbacks.Callback):\n",
        "\n",
        "    # Define the correct function signature for on_epoch_end method\n",
        "    def on_epoch_end(self,epochs,logs=None):\n",
        "\n",
        "        # Check if the accuracy is greater or equal to 0.995\n",
        "        if logs['accuracy'] >= .995:\n",
        "\n",
        "            # Stop training once the above condition is met\n",
        "            self.model.stop_training = True\n",
        "\n",
        "            print(\"\\n\\nReached 99.5% accuracy so cancelling training!\\n\")\n",
        "            print('Name: Kavinesh M  Register Number: 212222230064\\n')"
      ],
      "metadata": {
        "id": "6gbf6Ha2Ol0h"
      },
      "execution_count": 8,
      "outputs": []
    },
    {
      "cell_type": "code",
      "source": [
        "#convolutional_model\n",
        "\n",
        "def convolutional_model():\n",
        "    \"\"\"Returns the compiled (but untrained) convolutional model.\n",
        "\n",
        "    Returns:\n",
        "        tf.keras.Model: The model which should implement convolutions.\n",
        "    \"\"\"\n",
        "\n",
        "    # Define the model\n",
        "    model = tf.keras.models.Sequential([\n",
        "            tf.keras.layers.Conv2D(64, (3,3), activation='relu', input_shape=(28, 28, 1)),\n",
        "            tf.keras.layers.MaxPooling2D(2, 2),\n",
        "            tf.keras.layers.Conv2D(64, (3,3), activation='relu'),\n",
        "            tf.keras.layers.MaxPooling2D(2,2),\n",
        "            tf.keras.layers.Flatten(),\n",
        "            tf.keras.layers.Dense(128, activation='relu'),\n",
        "            tf.keras.layers.Dense(10, activation='softmax')\n",
        "    ])\n",
        "    # Compile the model\n",
        "    model.compile(\n",
        "\t\toptimizer='adam',\n",
        "\t\tloss='sparse_categorical_crossentropy',\n",
        "\t\tmetrics=['accuracy']\n",
        "\t)\n",
        "\n",
        "    return model"
      ],
      "metadata": {
        "id": "ULpmg8a-Ospj"
      },
      "execution_count": 11,
      "outputs": []
    },
    {
      "cell_type": "code",
      "source": [
        "# Define your compiled (but untrained) model\n",
        "model = convolutional_model()\n",
        "training_history = model.fit(training_images, training_labels, epochs=10, callbacks=[EarlyStoppingCallback()])"
      ],
      "metadata": {
        "colab": {
          "base_uri": "https://localhost:8080/"
        },
        "id": "th3RIyhbPAh_",
        "outputId": "7e311250-548e-48a9-fc02-7b2927de9ad6"
      },
      "execution_count": 12,
      "outputs": [
        {
          "output_type": "stream",
          "name": "stderr",
          "text": [
            "/usr/local/lib/python3.10/dist-packages/keras/src/layers/convolutional/base_conv.py:107: UserWarning: Do not pass an `input_shape`/`input_dim` argument to a layer. When using Sequential models, prefer using an `Input(shape)` object as the first layer in the model instead.\n",
            "  super().__init__(activity_regularizer=activity_regularizer, **kwargs)\n"
          ]
        },
        {
          "output_type": "stream",
          "name": "stdout",
          "text": [
            "Epoch 1/10\n",
            "\u001b[1m1875/1875\u001b[0m \u001b[32m━━━━━━━━━━━━━━━━━━━━\u001b[0m\u001b[37m\u001b[0m \u001b[1m92s\u001b[0m 48ms/step - accuracy: 0.9169 - loss: 0.2767\n",
            "Epoch 2/10\n",
            "\u001b[1m1875/1875\u001b[0m \u001b[32m━━━━━━━━━━━━━━━━━━━━\u001b[0m\u001b[37m\u001b[0m \u001b[1m142s\u001b[0m 48ms/step - accuracy: 0.9857 - loss: 0.0442\n",
            "Epoch 3/10\n",
            "\u001b[1m1875/1875\u001b[0m \u001b[32m━━━━━━━━━━━━━━━━━━━━\u001b[0m\u001b[37m\u001b[0m \u001b[1m92s\u001b[0m 49ms/step - accuracy: 0.9909 - loss: 0.0282\n",
            "Epoch 4/10\n",
            "\u001b[1m1875/1875\u001b[0m \u001b[32m━━━━━━━━━━━━━━━━━━━━\u001b[0m\u001b[37m\u001b[0m \u001b[1m138s\u001b[0m 47ms/step - accuracy: 0.9943 - loss: 0.0187\n",
            "Epoch 5/10\n",
            "\u001b[1m1875/1875\u001b[0m \u001b[32m━━━━━━━━━━━━━━━━━━━━\u001b[0m\u001b[37m\u001b[0m \u001b[1m0s\u001b[0m 49ms/step - accuracy: 0.9956 - loss: 0.0139\n",
            "\n",
            "Reached 99.5% accuracy so cancelling training!\n",
            "\n",
            "Name: Kavinesh M  Register Number: 212222230064\n",
            "\n",
            "\u001b[1m1875/1875\u001b[0m \u001b[32m━━━━━━━━━━━━━━━━━━━━\u001b[0m\u001b[37m\u001b[0m \u001b[1m145s\u001b[0m 49ms/step - accuracy: 0.9956 - loss: 0.0139\n"
          ]
        }
      ]
    },
    {
      "cell_type": "code",
      "source": [],
      "metadata": {
        "id": "LmsJ8HWBPDVZ"
      },
      "execution_count": null,
      "outputs": []
    }
  ]
}